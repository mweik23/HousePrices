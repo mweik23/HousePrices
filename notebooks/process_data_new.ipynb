{
 "cells": [
  {
   "cell_type": "code",
   "execution_count": 1,
   "id": "e48b3454",
   "metadata": {},
   "outputs": [],
   "source": [
    "import os\n",
    "import pandas as pd\n",
    "import numpy as np\n",
    "import re\n",
    "import sys\n",
    "from collections import Counter\n",
    "import itertools\n",
    "import sys\n",
    "from pathlib import Path\n",
    "#-----For use in .py files-----\n",
    "#sys.path.append(str(Path(__file__).resolve().parents[1] / \"src\"))\n",
    "#-----For use in .ipynb files-----\n",
    "project_root = Path().resolve().parents[0]\n",
    "sys.path.append(str(project_root / \"src\"))\n",
    "from HousePrices.utils import io\n",
    "\n"
   ]
  },
  {
   "cell_type": "code",
   "execution_count": null,
   "id": "e9ab64b3",
   "metadata": {},
   "outputs": [
    {
     "name": "stdout",
     "output_type": "stream",
     "text": [
      "loading data and info...\n"
     ]
    }
   ],
   "source": [
    "#define paths and names\n",
    "paths = io.get_paths(project_root)\n",
    "data_in, data_info = io.get_data(paths, print_output=False, split='train')"
   ]
  },
  {
   "cell_type": "code",
   "execution_count": 4,
   "id": "a46bb3a6",
   "metadata": {},
   "outputs": [
    {
     "name": "stdout",
     "output_type": "stream",
     "text": [
      "parsing data info file for data options...\n"
     ]
    }
   ],
   "source": [
    "options_dict, raw_numeric, categorical = io.parse_info(data_info, print_output=False)"
   ]
  },
  {
   "cell_type": "code",
   "execution_count": 5,
   "id": "2eea1274",
   "metadata": {},
   "outputs": [],
   "source": [
    "#load config file\n",
    "transformations_path = paths['config'] + '/transformations.json'\n",
    "transformations = io.load_json(transformations_path, print_output=False)"
   ]
  },
  {
   "cell_type": "code",
   "execution_count": 6,
   "id": "304ccf9c",
   "metadata": {},
   "outputs": [],
   "source": [
    "non_ordinal = [feat for feat in categorical if feat not in transformations['ordinal']]"
   ]
  },
  {
   "cell_type": "code",
   "execution_count": 7,
   "id": "0eaae53c",
   "metadata": {},
   "outputs": [
    {
     "name": "stdout",
     "output_type": "stream",
     "text": [
      "All categorical keys are present in options_dict.\n",
      "All categorical keys are present in data_in columns.\n"
     ]
    }
   ],
   "source": [
    "options_dict = io.update_categories(options_dict, non_ordinal, data_in)\n"
   ]
  },
  {
   "cell_type": "code",
   "execution_count": 8,
   "id": "d21d000e",
   "metadata": {},
   "outputs": [
    {
     "name": "stdout",
     "output_type": "stream",
     "text": [
      "Column LotFrontage contains non-numeric data:\n",
      "LotFrontage\n",
      "NA    208\n",
      "Name: count, dtype: int64\n",
      "Column MasVnrArea contains non-numeric data:\n",
      "MasVnrArea\n",
      "NA    7\n",
      "Name: count, dtype: int64\n",
      "Column GarageYrBlt contains non-numeric data:\n",
      "GarageYrBlt\n",
      "NA    57\n",
      "Name: count, dtype: int64\n",
      "All scalar_inputs are present in raw_numeric.\n"
     ]
    }
   ],
   "source": [
    "non_numeric_info = io.check_numeric_columns(data_in, raw_numeric, transformations['scalar_inputs'])"
   ]
  },
  {
   "cell_type": "code",
   "execution_count": 9,
   "id": "24cb94de",
   "metadata": {},
   "outputs": [],
   "source": [
    "from HousePrices.pipelines.build_preprocessor import build_preprocessor"
   ]
  },
  {
   "cell_type": "code",
   "execution_count": 10,
   "id": "352875cd",
   "metadata": {},
   "outputs": [],
   "source": [
    "transformations['options_dict'] = options_dict\n",
    "transformations['raw_numeric'] = raw_numeric\n",
    "transformations['categorical'] = categorical"
   ]
  },
  {
   "cell_type": "code",
   "execution_count": null,
   "id": "da234f95",
   "metadata": {},
   "outputs": [
    {
     "name": "stdout",
     "output_type": "stream",
     "text": [
      "Warning: NA not found in options for Exterior1st. This column was set to be ignored anyway for OneHotEncoder.\n",
      "Warning: NA not found in options for Exterior2nd. This column was set to be ignored anyway for OneHotEncoder.\n",
      "Warning: NA not found in options for SaleType. This column was set to be ignored anyway for OneHotEncoder.\n"
     ]
    }
   ],
   "source": [
    "preproc = build_preprocessor(transformations, as_dataframe=True)\n",
    "preproc.fit(data_in)\n",
    "data_out = preproc.transform(data_in)"
   ]
  },
  {
   "cell_type": "code",
   "execution_count": 13,
   "id": "d4cef072",
   "metadata": {},
   "outputs": [
    {
     "name": "stdout",
     "output_type": "stream",
     "text": [
      "      onehot_plus__MSSubClass_120  onehot_plus__MSSubClass_150  \\\n",
      "0                             0.0                          0.0   \n",
      "1                             0.0                          0.0   \n",
      "2                             0.0                          0.0   \n",
      "3                             0.0                          0.0   \n",
      "4                             0.0                          0.0   \n",
      "...                           ...                          ...   \n",
      "1089                          0.0                          0.0   \n",
      "1090                          0.0                          0.0   \n",
      "1091                          0.0                          0.0   \n",
      "1092                          0.0                          0.0   \n",
      "1093                          0.0                          0.0   \n",
      "\n",
      "      onehot_plus__MSSubClass_160  onehot_plus__MSSubClass_180  \\\n",
      "0                             0.0                          0.0   \n",
      "1                             0.0                          0.0   \n",
      "2                             0.0                          0.0   \n",
      "3                             0.0                          0.0   \n",
      "4                             0.0                          0.0   \n",
      "...                           ...                          ...   \n",
      "1089                          0.0                          0.0   \n",
      "1090                          0.0                          0.0   \n",
      "1091                          0.0                          0.0   \n",
      "1092                          0.0                          0.0   \n",
      "1093                          0.0                          0.0   \n",
      "\n",
      "      onehot_plus__MSSubClass_190  onehot_plus__MSSubClass_20  \\\n",
      "0                             0.0                         0.0   \n",
      "1                             0.0                         0.0   \n",
      "2                             0.0                         0.0   \n",
      "3                             0.0                         0.0   \n",
      "4                             0.0                         0.0   \n",
      "...                           ...                         ...   \n",
      "1089                          0.0                         1.0   \n",
      "1090                          0.0                         1.0   \n",
      "1091                          0.0                         0.0   \n",
      "1092                          0.0                         1.0   \n",
      "1093                          0.0                         0.0   \n",
      "\n",
      "      onehot_plus__MSSubClass_30  onehot_plus__MSSubClass_40  \\\n",
      "0                            0.0                         0.0   \n",
      "1                            0.0                         0.0   \n",
      "2                            1.0                         0.0   \n",
      "3                            0.0                         0.0   \n",
      "4                            0.0                         0.0   \n",
      "...                          ...                         ...   \n",
      "1089                         0.0                         0.0   \n",
      "1090                         0.0                         0.0   \n",
      "1091                         0.0                         0.0   \n",
      "1092                         0.0                         0.0   \n",
      "1093                         0.0                         0.0   \n",
      "\n",
      "      onehot_plus__MSSubClass_45  onehot_plus__MSSubClass_50  ...  \\\n",
      "0                            0.0                         0.0  ...   \n",
      "1                            0.0                         0.0  ...   \n",
      "2                            0.0                         0.0  ...   \n",
      "3                            0.0                         1.0  ...   \n",
      "4                            0.0                         1.0  ...   \n",
      "...                          ...                         ...  ...   \n",
      "1089                         0.0                         0.0  ...   \n",
      "1090                         0.0                         0.0  ...   \n",
      "1091                         0.0                         0.0  ...   \n",
      "1092                         0.0                         0.0  ...   \n",
      "1093                         0.0                         0.0  ...   \n",
      "\n",
      "      remainder__GarageQual  remainder__GarageCond  remainder__PavedDrive  \\\n",
      "0                 -0.255946              -0.256420              -0.275479   \n",
      "1                 -0.255946              -0.256420              -0.275479   \n",
      "2                  1.165398               1.167556              -0.275479   \n",
      "3                  4.008086               4.015508              -0.275479   \n",
      "4                 -0.255946              -0.256420               3.939539   \n",
      "...                     ...                    ...                    ...   \n",
      "1089              -0.255946              -0.256420              -0.275479   \n",
      "1090              -0.255946              -0.256420              -0.275479   \n",
      "1091               1.165398               2.591532               3.939539   \n",
      "1092              -0.255946              -0.256420              -0.275479   \n",
      "1093              -0.255946              -0.256420              -0.275479   \n",
      "\n",
      "      remainder__PoolQC  remainder__Fence  remainder__KitchenQual  \\\n",
      "0              0.067234         -2.791944                0.777268   \n",
      "1              0.067234          0.474780                0.777268   \n",
      "2              0.067234          0.474780                0.777268   \n",
      "3              0.067234          0.474780                0.777268   \n",
      "4              0.067234          0.474780               -0.749359   \n",
      "...                 ...               ...                     ...   \n",
      "1089           0.067234          0.474780               -0.749359   \n",
      "1090           0.067234          0.474780                0.777268   \n",
      "1091           0.067234         -1.975263                0.777268   \n",
      "1092           0.067234          0.474780               -0.749359   \n",
      "1093           0.067234          0.474780               -0.749359   \n",
      "\n",
      "      remainder__FireplaceQu  remainder__OverallQual  remainder__OverallCond  \\\n",
      "0                   1.009416                0.082722                0.525484   \n",
      "1                   1.009416                1.542356                0.525484   \n",
      "2                   1.009416                0.082722                0.525484   \n",
      "3                   1.009416                1.542356                1.432235   \n",
      "4                  -1.202504                0.082722               -1.288017   \n",
      "...                      ...                     ...                     ...   \n",
      "1089               -1.202504               -1.376913                0.525484   \n",
      "1090                1.009416                0.812539                0.525484   \n",
      "1091                1.009416                0.812539                0.525484   \n",
      "1092                1.009416                0.082722                0.525484   \n",
      "1093               -1.202504               -0.647096                0.525484   \n",
      "\n",
      "      remainder__SalePrice  \n",
      "0                 144000.0  \n",
      "1                  90000.0  \n",
      "2                 125000.0  \n",
      "3                 135000.0  \n",
      "4                 207000.0  \n",
      "...                    ...  \n",
      "1089              293077.0  \n",
      "1090              124000.0  \n",
      "1091              106000.0  \n",
      "1092              200000.0  \n",
      "1093              180000.0  \n",
      "\n",
      "[1094 rows x 230 columns]\n"
     ]
    }
   ],
   "source": [
    "print(data_out)"
   ]
  }
 ],
 "metadata": {
  "kernelspec": {
   "display_name": "ml",
   "language": "python",
   "name": "python3"
  },
  "language_info": {
   "codemirror_mode": {
    "name": "ipython",
    "version": 3
   },
   "file_extension": ".py",
   "mimetype": "text/x-python",
   "name": "python",
   "nbconvert_exporter": "python",
   "pygments_lexer": "ipython3",
   "version": "3.9.23"
  }
 },
 "nbformat": 4,
 "nbformat_minor": 5
}
