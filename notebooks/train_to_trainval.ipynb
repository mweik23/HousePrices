{
 "cells": [
  {
   "cell_type": "code",
   "execution_count": 1,
   "metadata": {},
   "outputs": [],
   "source": [
    "import os\n",
    "import pandas as pd\n",
    "import numpy as np\n",
    "from collections import Counter"
   ]
  },
  {
   "cell_type": "code",
   "execution_count": 2,
   "metadata": {},
   "outputs": [],
   "source": [
    "this_dir = os.getcwd()\n",
    "datadir = this_dir.split('notebooks')[0] + 'data/'\n",
    "data_in = pd.read_csv(datadir + 'raw/train.csv', keep_default_na=False, na_values=['_'])\n",
    "data_test = pd.read_csv(datadir + 'raw/test.csv', keep_default_na=False, na_values=['_'])"
   ]
  },
  {
   "cell_type": "code",
   "execution_count": 5,
   "metadata": {},
   "outputs": [
    {
     "name": "stdout",
     "output_type": "stream",
     "text": [
      "(array([455, 485]),)\n",
      "(array([ 455,  756,  790, 1444]),)\n",
      "(array([691]),)\n",
      "(array([691]),)\n",
      "(array([95]),)\n",
      "(array([ 756, 1013]),)\n",
      "(array([1029]),)\n"
     ]
    }
   ],
   "source": [
    "print(np.where(data_test['Utilities']=='NA'))\n",
    "print(np.where(data_test['MSZoning']=='NA'))\n",
    "print(np.where(data_test['Exterior1st']=='NA'))\n",
    "print(np.where(data_test['Exterior2nd']=='NA'))\n",
    "print(np.where(data_test['KitchenQual']=='NA'))\n",
    "print(np.where(data_test['Functional']=='NA'))\n",
    "print(np.where(data_test['SaleType']=='NA'))"
   ]
  },
  {
   "cell_type": "code",
   "execution_count": 8,
   "metadata": {},
   "outputs": [
    {
     "name": "stdout",
     "output_type": "stream",
     "text": [
      "Id :  1916\n",
      "MSSubClass :  30\n",
      "MSZoning :  NA\n",
      "LotFrontage :  109\n",
      "LotArea :  21780\n",
      "Street :  Grvl\n",
      "Alley :  NA\n",
      "LotShape :  Reg\n",
      "LandContour :  Lvl\n",
      "Utilities :  NA\n",
      "LotConfig :  Inside\n",
      "LandSlope :  Gtl\n",
      "Neighborhood :  IDOTRR\n",
      "Condition1 :  Norm\n",
      "Condition2 :  Norm\n",
      "BldgType :  1Fam\n",
      "HouseStyle :  1Story\n",
      "OverallQual :  2\n",
      "OverallCond :  4\n",
      "YearBuilt :  1910\n",
      "YearRemodAdd :  1950\n",
      "RoofStyle :  Gable\n",
      "RoofMatl :  CompShg\n",
      "Exterior1st :  Wd Sdng\n",
      "Exterior2nd :  Wd Sdng\n",
      "MasVnrType :  None\n",
      "MasVnrArea :  0\n",
      "ExterQual :  Fa\n",
      "ExterCond :  Fa\n",
      "Foundation :  CBlock\n",
      "BsmtQual :  NA\n",
      "BsmtCond :  NA\n",
      "BsmtExposure :  NA\n",
      "BsmtFinType1 :  NA\n",
      "BsmtFinSF1 :  0\n",
      "BsmtFinType2 :  NA\n",
      "BsmtFinSF2 :  0\n",
      "BsmtUnfSF :  0\n",
      "TotalBsmtSF :  0\n",
      "Heating :  GasA\n",
      "HeatingQC :  TA\n",
      "CentralAir :  N\n",
      "Electrical :  FuseA\n",
      "1stFlrSF :  810\n",
      "2ndFlrSF :  0\n",
      "LowQualFinSF :  0\n",
      "GrLivArea :  810\n",
      "BsmtFullBath :  0\n",
      "BsmtHalfBath :  0\n",
      "FullBath :  1\n",
      "HalfBath :  0\n",
      "BedroomAbvGr :  1\n",
      "KitchenAbvGr :  1\n",
      "KitchenQual :  TA\n",
      "TotRmsAbvGrd :  4\n",
      "Functional :  Min1\n",
      "Fireplaces :  0\n",
      "FireplaceQu :  NA\n",
      "GarageType :  Detchd\n",
      "GarageYrBlt :  1975\n",
      "GarageFinish :  Unf\n",
      "GarageCars :  1\n",
      "GarageArea :  280\n",
      "GarageQual :  TA\n",
      "GarageCond :  TA\n",
      "PavedDrive :  N\n",
      "WoodDeckSF :  119\n",
      "OpenPorchSF :  24\n",
      "EnclosedPorch :  0\n",
      "3SsnPorch :  0\n",
      "ScreenPorch :  0\n",
      "PoolArea :  0\n",
      "PoolQC :  NA\n",
      "Fence :  NA\n",
      "MiscFeature :  NA\n",
      "MiscVal :  0\n",
      "MoSold :  3\n",
      "YrSold :  2009\n",
      "SaleType :  ConLD\n",
      "SaleCondition :  Normal\n"
     ]
    }
   ],
   "source": [
    "for col in data_test.columns:\n",
    "    print(col, ': ', data_test[col].loc[455])"
   ]
  },
  {
   "cell_type": "code",
   "execution_count": 6,
   "metadata": {},
   "outputs": [
    {
     "data": {
      "text/plain": [
       "numpy.int64"
      ]
     },
     "execution_count": 6,
     "metadata": {},
     "output_type": "execute_result"
    }
   ],
   "source": [
    "type(data_in['OverallCond'].iloc[0])"
   ]
  },
  {
   "cell_type": "code",
   "execution_count": 7,
   "metadata": {},
   "outputs": [],
   "source": [
    "num_data = len(data_in)\n",
    "num_val = int(np.round(num_data/4))\n",
    "p = np.random.permutation(num_data)\n",
    "data_shuff = data_in.sample(frac=1)\n",
    "data_val = data_shuff.iloc[0:num_val]\n",
    "data_train = data_shuff.iloc[num_val+1:]\n",
    "data_train.to_csv(datadir + 'tvt/train.csv', index=False)\n",
    "data_val.to_csv(datadir + 'tvt/val.csv', index=False)\n",
    "data_test.to_csv(datadir + 'tvt/test.csv', index=False)\n"
   ]
  },
  {
   "cell_type": "code",
   "execution_count": null,
   "metadata": {},
   "outputs": [],
   "source": []
  }
 ],
 "metadata": {
  "kernelspec": {
   "display_name": "HousePrices",
   "language": "python",
   "name": "python3"
  },
  "language_info": {
   "codemirror_mode": {
    "name": "ipython",
    "version": 3
   },
   "file_extension": ".py",
   "mimetype": "text/x-python",
   "name": "python",
   "nbconvert_exporter": "python",
   "pygments_lexer": "ipython3",
   "version": "3.11.9"
  }
 },
 "nbformat": 4,
 "nbformat_minor": 2
}
